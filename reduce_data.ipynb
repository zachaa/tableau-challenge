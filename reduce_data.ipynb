{
 "cells": [
  {
   "cell_type": "code",
   "execution_count": 1,
   "metadata": {},
   "outputs": [],
   "source": [
    "import pandas as pd"
   ]
  },
  {
   "cell_type": "code",
   "execution_count": 7,
   "metadata": {},
   "outputs": [
    {
     "name": "stderr",
     "output_type": "stream",
     "text": [
      "C:\\Users\\Zachary\\AppData\\Local\\Temp\\ipykernel_15644\\1583609387.py:14: DtypeWarning: Columns (5,7) have mixed types. Specify dtype option on import or set low_memory=False.\n",
      "  data_dec_22 = pd.read_csv(\"data/202212-citibike-tripdata.csv\", header=0, parse_dates=[2, 3])\n",
      "C:\\Users\\Zachary\\AppData\\Local\\Temp\\ipykernel_15644\\1583609387.py:15: DtypeWarning: Columns (5,7) have mixed types. Specify dtype option on import or set low_memory=False.\n",
      "  data_jan_23 = pd.read_csv(\"data/202301-citibike-tripdata.csv\", header=0, parse_dates=[2, 3])\n",
      "C:\\Users\\Zachary\\AppData\\Local\\Temp\\ipykernel_15644\\1583609387.py:16: DtypeWarning: Columns (5,7) have mixed types. Specify dtype option on import or set low_memory=False.\n",
      "  data_feb_23 = pd.read_csv(\"data/202302-citibike-tripdata.csv\", header=0, parse_dates=[2, 3])\n"
     ]
    },
    {
     "name": "stdout",
     "output_type": "stream",
     "text": [
      "(1649652, 13)\n",
      "(1855201, 13)\n",
      "(1752148, 13)\n"
     ]
    }
   ],
   "source": [
    "dtypes = {\"ride_id\": str,\n",
    "          \"rideable_type\": str,\n",
    "          \"started_at\": pd.Timestamp,\n",
    "          \"ended_at\": pd.Timestamp,\n",
    "          \"start_station_name\": \"str\",\n",
    "          \"start_station_id\": \"str\",\n",
    "          \"end_station_name\": \"str\",\n",
    "          \"end_station_id\": \"str\",\n",
    "          \"start_lat\": float,\n",
    "          \"start_lng\": float,\n",
    "          \"end_lat\": float,\n",
    "          \"end_lng\": float,\n",
    "          \"member_casual\": \"str\"}\n",
    "data_dec_22 = pd.read_csv(\"data/raw/202212-citibike-tripdata.csv\", header=0, parse_dates=[2, 3])\n",
    "data_jan_23 = pd.read_csv(\"data/raw/202301-citibike-tripdata.csv\", header=0, parse_dates=[2, 3])\n",
    "data_feb_23 = pd.read_csv(\"data/raw/202302-citibike-tripdata.csv\", header=0, parse_dates=[2, 3])\n",
    "print(data_dec_22.shape)\n",
    "print(data_jan_23.shape)\n",
    "print(data_feb_23.shape)"
   ]
  },
  {
   "cell_type": "code",
   "execution_count": 8,
   "metadata": {},
   "outputs": [
    {
     "name": "stdout",
     "output_type": "stream",
     "text": [
      "<class 'pandas.core.frame.DataFrame'>\n",
      "RangeIndex: 1649652 entries, 0 to 1649651\n",
      "Data columns (total 13 columns):\n",
      " #   Column              Non-Null Count    Dtype         \n",
      "---  ------              --------------    -----         \n",
      " 0   ride_id             1649652 non-null  object        \n",
      " 1   rideable_type       1649652 non-null  object        \n",
      " 2   started_at          1649652 non-null  datetime64[ns]\n",
      " 3   ended_at            1649652 non-null  datetime64[ns]\n",
      " 4   start_station_name  1649622 non-null  object        \n",
      " 5   start_station_id    1649622 non-null  object        \n",
      " 6   end_station_name    1644484 non-null  object        \n",
      " 7   end_station_id      1644484 non-null  object        \n",
      " 8   start_lat           1649652 non-null  float64       \n",
      " 9   start_lng           1649652 non-null  float64       \n",
      " 10  end_lat             1648490 non-null  float64       \n",
      " 11  end_lng             1648490 non-null  float64       \n",
      " 12  member_casual       1649652 non-null  object        \n",
      "dtypes: datetime64[ns](2), float64(4), object(7)\n",
      "memory usage: 163.6+ MB\n"
     ]
    }
   ],
   "source": [
    "data_dec_22.info()"
   ]
  },
  {
   "cell_type": "code",
   "execution_count": 9,
   "metadata": {},
   "outputs": [
    {
     "name": "stdout",
     "output_type": "stream",
     "text": [
      "classic_bike     1383055\n",
      "electric_bike     262051\n",
      "docked_bike         4546\n",
      "Name: rideable_type, dtype: int64\n",
      "member    1418779\n",
      "casual     230873\n",
      "Name: member_casual, dtype: int64\n"
     ]
    }
   ],
   "source": [
    "print(data_dec_22[\"rideable_type\"].value_counts())\n",
    "print(data_dec_22[\"member_casual\"].value_counts())"
   ]
  },
  {
   "cell_type": "code",
   "execution_count": 11,
   "metadata": {},
   "outputs": [
    {
     "name": "stdout",
     "output_type": "stream",
     "text": [
      "(5242112, 12)\n",
      "<class 'pandas.core.frame.DataFrame'>\n",
      "Int64Index: 5242112 entries, 0 to 1752147\n",
      "Data columns (total 12 columns):\n",
      " #   Column              Dtype         \n",
      "---  ------              -----         \n",
      " 0   rideable_type       object        \n",
      " 1   started_at          datetime64[ns]\n",
      " 2   ended_at            datetime64[ns]\n",
      " 3   start_station_name  object        \n",
      " 4   start_station_id    object        \n",
      " 5   end_station_name    object        \n",
      " 6   end_station_id      object        \n",
      " 7   start_lat           float64       \n",
      " 8   start_lng           float64       \n",
      " 9   end_lat             float64       \n",
      " 10  end_lng             float64       \n",
      " 11  member_casual       bool          \n",
      "dtypes: bool(1), datetime64[ns](2), float64(4), object(5)\n",
      "memory usage: 484.9+ MB\n"
     ]
    }
   ],
   "source": [
    "map_rideable_type = {\"classic_bike\": \"C\",\n",
    "                     \"electric_bike\": \"E\",\n",
    "                     \"docked_bike\": \"D\"}\n",
    "map_member_casual = {\"member\": True,\n",
    "                     \"casual\": False}\n",
    "\n",
    "df_winter = pd.concat([data_dec_22, data_jan_23, data_feb_23])\n",
    "df_winter.drop(\"ride_id\", axis=1, inplace=True)  # don't need id column\n",
    "df_winter.dropna(axis=0, inplace=True)  # drop any row with missing data\n",
    "# map strings to shorter values\n",
    "df_winter[\"rideable_type\"] = df_winter[\"rideable_type\"].map(map_rideable_type)\n",
    "df_winter[\"member_casual\"] = df_winter[\"member_casual\"].map(map_member_casual)\n",
    "print(df_winter.shape)\n",
    "df_winter.info()"
   ]
  },
  {
   "cell_type": "code",
   "execution_count": 12,
   "metadata": {},
   "outputs": [],
   "source": [
    "df_winter.to_csv(\"data/citibike_winter_22_23.csv\", index=False, header=True)"
   ]
  }
 ],
 "metadata": {
  "kernelspec": {
   "display_name": "PythonData39",
   "language": "python",
   "name": "python3"
  },
  "language_info": {
   "codemirror_mode": {
    "name": "ipython",
    "version": 3
   },
   "file_extension": ".py",
   "mimetype": "text/x-python",
   "name": "python",
   "nbconvert_exporter": "python",
   "pygments_lexer": "ipython3",
   "version": "3.9.16"
  },
  "orig_nbformat": 4
 },
 "nbformat": 4,
 "nbformat_minor": 2
}
